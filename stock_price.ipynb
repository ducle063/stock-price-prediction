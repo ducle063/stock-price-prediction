{
 "cells": [
  {
   "cell_type": "code",
   "execution_count": null,
   "id": "e10475ec-5757-4d45-bde6-ef2805a4fa1b",
   "metadata": {
    "collapsed": true,
    "jupyter": {
     "outputs_hidden": true
    },
    "tags": []
   },
   "outputs": [],
   "source": [
    "# pip install yfinance"
   ]
  },
  {
   "cell_type": "code",
   "execution_count": null,
   "id": "2b906ece-91fb-477b-af15-3bad859fc87a",
   "metadata": {
    "tags": []
   },
   "outputs": [],
   "source": [
    "import yfinance as yf"
   ]
  },
  {
   "cell_type": "code",
   "execution_count": null,
   "id": "310e6152-8657-41ce-804d-d0fbc7992576",
   "metadata": {
    "tags": []
   },
   "outputs": [],
   "source": [
    "from datetime import datetime\n",
    "end = datetime.now()\n",
    "start = datetime(end.year-20, end.month, end.day)"
   ]
  },
  {
   "cell_type": "code",
   "execution_count": null,
   "id": "9744bcd9-e55c-44b5-b471-e63bd1bd12bc",
   "metadata": {
    "tags": []
   },
   "outputs": [],
   "source": [
    "stock = \"GOOG\"\n",
    "google_data = yf.download(stock, start, end)"
   ]
  },
  {
   "cell_type": "code",
   "execution_count": null,
   "id": "8a9b8886-4786-4e5c-9330-83ac0c96fd20",
   "metadata": {
    "tags": []
   },
   "outputs": [],
   "source": [
    "google_data.head()"
   ]
  },
  {
   "cell_type": "code",
   "execution_count": null,
   "id": "c8e4d2a9-c107-422e-8c54-44a4455c54fd",
   "metadata": {
    "tags": []
   },
   "outputs": [],
   "source": [
    "google_data.shape"
   ]
  },
  {
   "cell_type": "code",
   "execution_count": null,
   "id": "f1f0f848-9caf-495f-8cf1-59759e2b76c5",
   "metadata": {
    "tags": []
   },
   "outputs": [],
   "source": [
    "google_data.describe()"
   ]
  },
  {
   "cell_type": "code",
   "execution_count": null,
   "id": "d392237a-ef79-46b9-8152-5ef4016a6faa",
   "metadata": {
    "tags": []
   },
   "outputs": [],
   "source": [
    "google_data.info()"
   ]
  },
  {
   "cell_type": "code",
   "execution_count": null,
   "id": "2d11ce73-9a0e-4567-a978-847b06ca05e6",
   "metadata": {
    "tags": []
   },
   "outputs": [],
   "source": [
    "google_data.isna().sum()"
   ]
  },
  {
   "cell_type": "code",
   "execution_count": null,
   "id": "611f1c8d-3fe7-490f-903a-be7852a8731f",
   "metadata": {
    "tags": []
   },
   "outputs": [],
   "source": [
    "import matplotlib.pyplot as plt\n",
    "%matplotlib inline"
   ]
  },
  {
   "cell_type": "code",
   "execution_count": null,
   "id": "63bf79d6-15e6-40a9-8a50-c81563f37c29",
   "metadata": {
    "tags": []
   },
   "outputs": [],
   "source": [
    "plt.figure(figsize = (15,5))\n",
    "google_data['Adj Close'].plot()\n",
    "plt.xlabel(\"years\")\n",
    "plt.ylabel(\"Adj Close\")\n",
    "plt.title(\"Closing price of Google data\")"
   ]
  },
  {
   "cell_type": "code",
   "execution_count": null,
   "id": "0bd1003e-4d13-46fc-942d-5fa6d9f5f7bb",
   "metadata": {
    "tags": []
   },
   "outputs": [],
   "source": [
    "def plot_graph(figsize, values, column_name):\n",
    "    plt.figure()\n",
    "    values.plot(figsize = figsize)\n",
    "    plt.xlabel(\"years\")\n",
    "    plt.ylabel(column_name)\n",
    "    plt.title(f\"{column_name} price of Google data\")\n",
    "    "
   ]
  },
  {
   "cell_type": "code",
   "execution_count": null,
   "id": "4d60888a-218c-4033-a271-1fcad9e23e5c",
   "metadata": {
    "tags": []
   },
   "outputs": [],
   "source": [
    "google_data.columns"
   ]
  },
  {
   "cell_type": "code",
   "execution_count": null,
   "id": "fd0b15e6-296d-453e-a9f5-f2404017d9f2",
   "metadata": {
    "tags": []
   },
   "outputs": [],
   "source": [
    "for column in google_data.columns:\n",
    "    plot_graph((15,5),google_data[column], column)"
   ]
  },
  {
   "cell_type": "code",
   "execution_count": null,
   "id": "9f87ab6a-4878-4a37-9219-ae8cdf6f902a",
   "metadata": {},
   "outputs": [],
   "source": [
    "# 10, 20, 30, 40, 50, 60, 70, 80, 90, 100\n",
    "\n",
    "# MA for 5 days ==> null null null null 30 40 50 60 70 80"
   ]
  },
  {
   "cell_type": "code",
   "execution_count": null,
   "id": "ae746f78-b801-4e2e-a1d2-ff9b548c537b",
   "metadata": {
    "tags": []
   },
   "outputs": [],
   "source": [
    "temp_data = [10, 20, 30, 40, 50, 60, 70, 80, 90, 100]\n",
    "print(sum(temp_data[1:6])/5)"
   ]
  },
  {
   "cell_type": "code",
   "execution_count": null,
   "id": "553cd45d-27ab-42ae-8028-2c23be107bc6",
   "metadata": {
    "tags": []
   },
   "outputs": [],
   "source": [
    "import pandas as pd\n",
    "data = pd.DataFrame([10, 20, 30, 40, 50, 60, 70, 80, 90, 100])\n",
    "data.head()"
   ]
  },
  {
   "cell_type": "code",
   "execution_count": null,
   "id": "5c605efc-04e6-4673-a9c1-ae51f2716eb6",
   "metadata": {
    "tags": []
   },
   "outputs": [],
   "source": [
    "data['MA'] = data.rolling(5).mean()\n",
    "data"
   ]
  },
  {
   "cell_type": "code",
   "execution_count": null,
   "id": "565b5d4a-6a94-466b-a68e-d9e35ca0ee5b",
   "metadata": {
    "tags": []
   },
   "outputs": [],
   "source": [
    "for i in range(2004,2025):\n",
    "    print(i,list(google_data.index.year).count(i))"
   ]
  },
  {
   "cell_type": "code",
   "execution_count": null,
   "id": "e90c0f2b-2e43-4a84-877a-579b255e3e01",
   "metadata": {
    "tags": []
   },
   "outputs": [],
   "source": [
    "google_data['MA_for_250_days'] = google_data['Adj Close'].rolling(250).mean()"
   ]
  },
  {
   "cell_type": "code",
   "execution_count": null,
   "id": "6675833d-1584-400f-bd4e-cb00feeef6cb",
   "metadata": {
    "tags": []
   },
   "outputs": [],
   "source": [
    "google_data['MA_for_250_days'][0:250].tail()"
   ]
  },
  {
   "cell_type": "code",
   "execution_count": null,
   "id": "29eecd8c-1dcd-4521-9815-de56b9bab77e",
   "metadata": {
    "tags": []
   },
   "outputs": [],
   "source": [
    "plot_graph((15,5), google_data['MA_for_250_days'], 'MA_for_250_days')"
   ]
  },
  {
   "cell_type": "code",
   "execution_count": null,
   "id": "cea8221a-490c-40f1-96ce-60b58bcf4c8a",
   "metadata": {
    "tags": []
   },
   "outputs": [],
   "source": [
    "plot_graph((15,5), google_data[['Adj Close','MA_for_250_days']], 'MA_for_250_days')"
   ]
  },
  {
   "cell_type": "code",
   "execution_count": null,
   "id": "f6bd95a5-cc72-4daa-bbfc-084470c7e3d6",
   "metadata": {
    "tags": []
   },
   "outputs": [],
   "source": [
    "google_data['MA_for_100_days'] = google_data['Adj Close'].rolling(100).mean()\n",
    "plot_graph((15,5), google_data[['Adj Close','MA_for_100_days']], 'MA_for_100_days')"
   ]
  },
  {
   "cell_type": "code",
   "execution_count": null,
   "id": "e9903b50-b4b5-4b19-bdab-f8f10ce6db94",
   "metadata": {
    "tags": []
   },
   "outputs": [],
   "source": [
    "plot_graph((15,5), google_data[['Adj Close','MA_for_100_days', 'MA_for_250_days']], 'MA')"
   ]
  },
  {
   "cell_type": "code",
   "execution_count": null,
   "id": "0110322b-035b-4e49-87ed-284510093ce9",
   "metadata": {
    "tags": []
   },
   "outputs": [],
   "source": [
    "google_data['percentage_change_cp'] = google_data['Adj Close'].pct_change()\n",
    "google_data[['Adj Close','percentage_change_cp']].head()"
   ]
  },
  {
   "cell_type": "code",
   "execution_count": null,
   "id": "99d9e73b-224c-45e8-a176-9eb4c0cd3094",
   "metadata": {
    "tags": []
   },
   "outputs": [],
   "source": [
    "plot_graph((15,5), google_data['percentage_change_cp'], 'percentage_change')"
   ]
  },
  {
   "cell_type": "code",
   "execution_count": null,
   "id": "606cb44e-a5f8-4a70-b3d1-41d05f969849",
   "metadata": {
    "tags": []
   },
   "outputs": [],
   "source": [
    "Adj_close_price = google_data[['Adj Close']]"
   ]
  },
  {
   "cell_type": "code",
   "execution_count": null,
   "id": "f53f3f5e-00ea-427e-a87c-cfc9254898b9",
   "metadata": {
    "tags": []
   },
   "outputs": [],
   "source": [
    "max(Adj_close_price.values),min(Adj_close_price.values) "
   ]
  },
  {
   "cell_type": "code",
   "execution_count": null,
   "id": "8d67f5b9-6701-438c-a73a-1a9116f3371a",
   "metadata": {
    "tags": []
   },
   "outputs": [],
   "source": [
    "from sklearn.preprocessing import MinMaxScaler\n",
    "\n",
    "scaler = MinMaxScaler(feature_range=(0,1))\n",
    "scaled_data = scaler.fit_transform(Adj_close_price)\n",
    "scaled_data"
   ]
  },
  {
   "cell_type": "code",
   "execution_count": null,
   "id": "23a435c4-e870-43ca-96ff-e2ce3f4ea371",
   "metadata": {
    "tags": []
   },
   "outputs": [],
   "source": [
    "len(scaled_data)"
   ]
  },
  {
   "cell_type": "code",
   "execution_count": null,
   "id": "f25ff378-855b-48e1-ade3-3656810f7244",
   "metadata": {
    "tags": []
   },
   "outputs": [],
   "source": [
    "x_data = []\n",
    "y_data = []\n",
    "\n",
    "for i in range(100, len(scaled_data)):\n",
    "    x_data.append(scaled_data[i-100:i])\n",
    "    y_data.append(scaled_data[i])\n",
    "    \n",
    "import numpy as np\n",
    "x_data, y_data = np.array(x_data), np.array(y_data)"
   ]
  },
  {
   "cell_type": "code",
   "execution_count": null,
   "id": "4d9f6284-93ec-44c9-a15a-cf723d4b9fdd",
   "metadata": {
    "tags": []
   },
   "outputs": [],
   "source": [
    "x_data[0],y_data[0]"
   ]
  },
  {
   "cell_type": "code",
   "execution_count": null,
   "id": "1c8f9304-b14c-4abf-8526-62cb0a9c156f",
   "metadata": {
    "tags": []
   },
   "outputs": [],
   "source": [
    "int(len(x_data)*0.7)"
   ]
  },
  {
   "cell_type": "code",
   "execution_count": null,
   "id": "5293769c-5ec9-4d93-89c5-60384d13c506",
   "metadata": {
    "tags": []
   },
   "outputs": [],
   "source": [
    "int(len(x_data))-100-int(len(x_data)*0.7)"
   ]
  },
  {
   "cell_type": "code",
   "execution_count": null,
   "id": "96806ee8-341f-4970-9916-e2bb475f1239",
   "metadata": {
    "tags": []
   },
   "outputs": [],
   "source": [
    "splitting_len = int(len(x_data)*0.7)\n",
    "x_train = x_data[:splitting_len]\n",
    "y_train = y_data[:splitting_len]\n",
    "\n",
    "x_test = x_data[splitting_len:]\n",
    "y_test = y_data[splitting_len:]"
   ]
  },
  {
   "cell_type": "code",
   "execution_count": null,
   "id": "b511dbbc-73ff-4738-ace7-a560ff7e1e5e",
   "metadata": {
    "tags": []
   },
   "outputs": [],
   "source": [
    "print(x_train.shape)\n",
    "print(y_train.shape)\n",
    "print(x_test.shape)\n",
    "print(y_test.shape)"
   ]
  },
  {
   "cell_type": "code",
   "execution_count": null,
   "id": "c612b8c3-1404-4f95-98da-331e613c12a1",
   "metadata": {
    "tags": []
   },
   "outputs": [],
   "source": [
    "from keras.models import Sequential\n",
    "from keras.layers import Dense, LSTM"
   ]
  },
  {
   "cell_type": "code",
   "execution_count": null,
   "id": "1c435f55-3fed-4fde-a05d-a9a74aec71c2",
   "metadata": {
    "tags": []
   },
   "outputs": [],
   "source": [
    "model = Sequential()\n",
    "model.add(LSTM(128, return_sequences=True, input_shape=(x_train.shape[1],1)))\n",
    "model.add(LSTM(64,return_sequences=False))\n",
    "model.add(Dense(25))\n",
    "model.add(Dense(1))"
   ]
  },
  {
   "cell_type": "code",
   "execution_count": null,
   "id": "88fcc815-9bc4-4bee-a3ef-775efab8e7a1",
   "metadata": {
    "tags": []
   },
   "outputs": [],
   "source": [
    "model.compile(optimizer='nadam', loss='mean_squared_error')"
   ]
  },
  {
   "cell_type": "code",
   "execution_count": null,
   "id": "d02c345d-3771-4cea-b420-dd9f35e3c384",
   "metadata": {
    "tags": []
   },
   "outputs": [],
   "source": [
    "model.fit(x_train, y_train, batch_size=15, epochs = 10)"
   ]
  },
  {
   "cell_type": "code",
   "execution_count": null,
   "id": "353e6234-0b99-4cbb-b77f-524d76b38652",
   "metadata": {
    "tags": []
   },
   "outputs": [],
   "source": [
    "model.summary()"
   ]
  },
  {
   "cell_type": "code",
   "execution_count": null,
   "id": "67dfac43-9205-4bd1-9b5d-186bf5b69b8d",
   "metadata": {
    "tags": []
   },
   "outputs": [],
   "source": [
    "predictions = model.predict(x_test)"
   ]
  },
  {
   "cell_type": "code",
   "execution_count": null,
   "id": "0dc64f9f-a25f-4996-b905-cb66166fa720",
   "metadata": {
    "tags": []
   },
   "outputs": [],
   "source": [
    "predictions"
   ]
  },
  {
   "cell_type": "code",
   "execution_count": null,
   "id": "8b5efc02-fa1f-4f42-8a16-b016287b9142",
   "metadata": {
    "tags": []
   },
   "outputs": [],
   "source": [
    "inv_predictions = scaler.inverse_transform(predictions)\n",
    "inv_predictions"
   ]
  },
  {
   "cell_type": "code",
   "execution_count": null,
   "id": "d4cda8d7-5dff-4fa0-b3d4-be76cfd81745",
   "metadata": {
    "tags": []
   },
   "outputs": [],
   "source": [
    "inv_y_test = scaler.inverse_transform(y_test)\n",
    "inv_y_test"
   ]
  },
  {
   "cell_type": "code",
   "execution_count": null,
   "id": "c12b6c7f-054d-4259-8175-c8635efb8ac1",
   "metadata": {
    "tags": []
   },
   "outputs": [],
   "source": [
    "rmse = np.sqrt(np.mean( (inv_predictions - inv_y_test)**2))"
   ]
  },
  {
   "cell_type": "code",
   "execution_count": null,
   "id": "84edf570-f16a-4795-b12e-ee78bcb955e6",
   "metadata": {
    "tags": []
   },
   "outputs": [],
   "source": [
    "rmse"
   ]
  },
  {
   "cell_type": "code",
   "execution_count": null,
   "id": "2c6df5f8-2a74-4ffd-832c-b11d77c51dfb",
   "metadata": {
    "tags": []
   },
   "outputs": [],
   "source": [
    "ploting_data = pd.DataFrame(\n",
    " {\n",
    "  'original_test_data': inv_y_test.reshape(-1),\n",
    "    'predictions': inv_predictions.reshape(-1)\n",
    " } ,\n",
    "    index = google_data.index[splitting_len+100:]\n",
    ")\n",
    "ploting_data.head(15)"
   ]
  },
  {
   "cell_type": "code",
   "execution_count": null,
   "id": "22534bc0-499d-4d89-961e-61d24f506341",
   "metadata": {
    "tags": []
   },
   "outputs": [],
   "source": [
    "plot_graph((15,6), ploting_data, 'Test data')"
   ]
  },
  {
   "cell_type": "code",
   "execution_count": null,
   "id": "c909ed83-3193-4d09-9234-c51021d9eb4c",
   "metadata": {
    "tags": []
   },
   "outputs": [],
   "source": [
    "plot_graph((15,6), pd.concat([Adj_close_price[:splitting_len+100],ploting_data], axis=0), 'whole data')"
   ]
  },
  {
   "cell_type": "code",
   "execution_count": null,
   "id": "345106a8-9a52-48c9-aae9-57fe927f9ecc",
   "metadata": {},
   "outputs": [],
   "source": [
    "last_100 = google_data[['Close']].tail(100)\n",
    "last_100.tail()"
   ]
  },
  {
   "cell_type": "code",
   "execution_count": null,
   "id": "bc5a7f70",
   "metadata": {},
   "outputs": [],
   "source": [
    "last_100 = scaler.fit_transform(last_100['Close'].values.reshape(-1,1)).reshape(1,-1,1)\n",
    "last_100"
   ]
  },
  {
   "cell_type": "code",
   "execution_count": null,
   "id": "c2a09cc9",
   "metadata": {},
   "outputs": [],
   "source": [
    "last_100.shape"
   ]
  },
  {
   "cell_type": "code",
   "execution_count": null,
   "id": "59563721",
   "metadata": {},
   "outputs": [],
   "source": [
    "day101 = model.predict(last_100)\n",
    "day101"
   ]
  },
  {
   "cell_type": "code",
   "execution_count": null,
   "id": "04dfa2b0",
   "metadata": {},
   "outputs": [],
   "source": [
    "scaler.inverse_transform(day101)"
   ]
  },
  {
   "cell_type": "code",
   "execution_count": null,
   "id": "5b40c062",
   "metadata": {},
   "outputs": [],
   "source": [
    "def predict_future(no_of_days, prev_100):\n",
    "\n",
    "    future_predictions = []\n",
    "    for i in range(no_of_days):\n",
    "        next_day = model.predict(prev_100)  # Extract the first element (prediction)\n",
    "        prev_100 = np.roll(prev_100, -1)  # Efficiently shift elements\n",
    "        prev_100[0] = next_day  # Assign prediction to the first element\n",
    "\n",
    "        future_predictions.append(scaler.inverse_transform(next_day))\n",
    "\n",
    "    return future_predictions"
   ]
  },
  {
   "cell_type": "code",
   "execution_count": null,
   "id": "58de54b4",
   "metadata": {},
   "outputs": [],
   "source": [
    "no_of_days = 5\n",
    "future_results = predict_future(no_of_days, last_100)\n",
    "print(future_results)"
   ]
  },
  {
   "cell_type": "code",
   "execution_count": null,
   "id": "2e76b91c",
   "metadata": {},
   "outputs": [],
   "source": [
    "future_results = np.array(future_results).reshape(-1,1)\n",
    "plt.figure()\n",
    "pd.DataFrame(future_results).plot(figsize=(15,5), marker='o')\n",
    "for i in range(len(future_results)):\n",
    "    plt.text(i,future_results[i],int(future_results[i][0]))\n",
    "plt.xlabel('Future days')\n",
    "plt.ylabel('Close price')\n",
    "plt.title(\"Future Close price of Stock\")"
   ]
  },
  {
   "cell_type": "code",
   "execution_count": null,
   "id": "410e40e5-3ed4-40ab-bef7-0769367284d2",
   "metadata": {
    "tags": []
   },
   "outputs": [],
   "source": [
    "model.save(\"Latest_stock_price_model.keras\")"
   ]
  },
  {
   "cell_type": "code",
   "execution_count": null,
   "id": "94c1ae33-8712-4763-9794-581a115f417c",
   "metadata": {},
   "outputs": [],
   "source": []
  }
 ],
 "metadata": {
  "kernelspec": {
   "display_name": "Python 3 (ipykernel)",
   "language": "python",
   "name": "python3"
  },
  "language_info": {
   "codemirror_mode": {
    "name": "ipython",
    "version": 3
   },
   "file_extension": ".py",
   "mimetype": "text/x-python",
   "name": "python",
   "nbconvert_exporter": "python",
   "pygments_lexer": "ipython3",
   "version": "3.11.9"
  }
 },
 "nbformat": 4,
 "nbformat_minor": 5
}
